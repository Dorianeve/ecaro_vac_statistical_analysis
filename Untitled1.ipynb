{
 "cells": [
  {
   "cell_type": "code",
   "execution_count": 14,
   "id": "62dd930e-18cf-4221-a3a3-f0e546c67bb1",
   "metadata": {},
   "outputs": [
    {
     "name": "stdout",
     "output_type": "stream",
     "text": [
      "         NAME ISO_A3 ADM0_ISO ADM0_A3 SU_A3 BRK_A3 ISO_A3_EH\n",
      "21     Norway    -99      NOR     NOR   NOR    NOR       NOR\n",
      "43     France    -99      FRA     FRA   FRA    FRA       FRA\n",
      "131  Portugal    PRT      PR1     PRT   PR1    PR1       PRT\n",
      "174    Kosovo    -99      SRB     KOS   KOS    KOS       -99\n"
     ]
    }
   ],
   "source": [
    "import geopandas as gpd\n",
    "\n",
    "# Load the shapefile\n",
    "world = gpd.read_file(\"data/geodata/ne_110m_admin_0_countries.shp\")\n",
    "\n",
    "# Filter for Norway and France\n",
    "selected_countries = world[world['NAME'].isin(['Norway', 'France', 'Portugal','Kosovo'])]\n",
    "\n",
    "# Display ISO_A3 codes for Norway and France\n",
    "print(selected_countries[['NAME', 'ISO_A3', 'ADM0_ISO', 'ADM0_A3','SU_A3','BRK_A3','ISO_A3_EH']])\n"
   ]
  },
  {
   "cell_type": "code",
   "execution_count": 15,
   "id": "921398e8-e208-4d85-9f4e-27c94b40ef4a",
   "metadata": {},
   "outputs": [],
   "source": [
    "# Optionally, export the DataFrame to CSV or Excel if you need\n",
    "selected_countries.to_csv('data/metadata/geodata.csv', index=False)"
   ]
  }
 ],
 "metadata": {
  "kernelspec": {
   "display_name": "Python 3 (ipykernel)",
   "language": "python",
   "name": "python3"
  },
  "language_info": {
   "codemirror_mode": {
    "name": "ipython",
    "version": 3
   },
   "file_extension": ".py",
   "mimetype": "text/x-python",
   "name": "python",
   "nbconvert_exporter": "python",
   "pygments_lexer": "ipython3",
   "version": "3.10.12"
  }
 },
 "nbformat": 4,
 "nbformat_minor": 5
}
